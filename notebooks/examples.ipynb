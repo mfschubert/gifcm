{
 "cells": [
  {
   "cell_type": "code",
   "execution_count": null,
   "id": "12b0eb97",
   "metadata": {},
   "outputs": [],
   "source": [
    "from importlib import reload\n",
    "\n",
    "import matplotlib.pyplot as plt\n",
    "import numpy as onp\n",
    "from PIL import Image\n",
    "\n",
    "import gifcm"
   ]
  },
  {
   "cell_type": "code",
   "execution_count": null,
   "id": "b0d5bf39",
   "metadata": {},
   "outputs": [],
   "source": [
    "figure = plt.figure()\n",
    "animated_figure = gifcm.AnimatedFigure(figure)\n",
    "\n",
    "for i in range(10):\n",
    "  with animated_figure.frame():\n",
    "    plt.plot(i, i, 'o')\n",
    "    plt.xlim([-1, 11])\n",
    "    plt.ylim([-1, 11])\n",
    "\n",
    "animated_figure.save_gif(\"test.gif\")"
   ]
  }
 ],
 "metadata": {
  "kernelspec": {
   "display_name": "Python 3 (ipykernel)",
   "language": "python",
   "name": "python3"
  },
  "language_info": {
   "codemirror_mode": {
    "name": "ipython",
    "version": 3
   },
   "file_extension": ".py",
   "mimetype": "text/x-python",
   "name": "python",
   "nbconvert_exporter": "python",
   "pygments_lexer": "ipython3",
   "version": "3.9.16"
  }
 },
 "nbformat": 4,
 "nbformat_minor": 5
}
